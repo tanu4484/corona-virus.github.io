{
  "cells": [
    {
      "cell_type": "markdown",
      "metadata": {
        "id": "view-in-github",
        "colab_type": "text"
      },
      "source": [
        "<a href=\"https://colab.research.google.com/github/tanu4484/corona-virus.github.io/blob/main/Copy_of_Welcome_To_Colaboratory.ipynb\" target=\"_parent\"><img src=\"https://colab.research.google.com/assets/colab-badge.svg\" alt=\"Open In Colab\"/></a>"
      ]
    },
    {
      "cell_type": "markdown",
      "source": [
        "# **Python Output**\n",
        "\n",
        "Syntax: print(value, ..., sep='', end = '\\n', file = sys.stdout, flush = False)"
      ],
      "metadata": {
        "id": "rhcrbR9jDJ5-"
      }
    },
    {
      "cell_type": "code",
      "source": [
        "#seperating or changing space values\n",
        "print(\"hello\",\"world\",sep=\"-\")\n",
        "print(\"hello\",end=\" \")\n",
        "print(\"world\")\n",
        "\n"
      ],
      "metadata": {
        "id": "1ZJWxY-RDNt9",
        "outputId": "af37e575-6ded-4028-8fbf-b81445cff88d",
        "colab": {
          "base_uri": "https://localhost:8080/"
        }
      },
      "execution_count": null,
      "outputs": [
        {
          "output_type": "stream",
          "name": "stdout",
          "text": [
            "hello-world\n",
            "hello world\n"
          ]
        }
      ]
    },
    {
      "cell_type": "code",
      "source": [
        "# printing two statemetns in a line\n",
        "print(5)\n"
      ],
      "metadata": {
        "id": "b2X6sZUPD2pt",
        "outputId": "8e572ac2-a309-45c5-af9f-c126d4f14a47",
        "colab": {
          "base_uri": "https://localhost:8080/"
        }
      },
      "execution_count": null,
      "outputs": [
        {
          "output_type": "stream",
          "name": "stdout",
          "text": [
            "5\n"
          ]
        }
      ]
    },
    {
      "cell_type": "markdown",
      "source": [
        "# **Data Types in Python**"
      ],
      "metadata": {
        "id": "oRLwXYOrEBM9"
      }
    },
    {
      "cell_type": "code",
      "source": [
        "# 1) Integer\n",
        "print(5)"
      ],
      "metadata": {
        "id": "tz7HKv-iEEnd",
        "outputId": "8177c022-84b9-45fd-a92f-8c0e57c884f4",
        "colab": {
          "base_uri": "https://localhost:8080/"
        }
      },
      "execution_count": null,
      "outputs": [
        {
          "output_type": "stream",
          "name": "stdout",
          "text": [
            "5\n"
          ]
        }
      ]
    },
    {
      "cell_type": "code",
      "source": [
        "# 2) Decimal Float\n",
        "print(3.4)"
      ],
      "metadata": {
        "id": "yqj3t-VIEqU1",
        "outputId": "a23f23b2-42c5-46ae-cdea-f69d4dff92da",
        "colab": {
          "base_uri": "https://localhost:8080/"
        }
      },
      "execution_count": null,
      "outputs": [
        {
          "output_type": "stream",
          "name": "stdout",
          "text": [
            "3.4\n"
          ]
        }
      ]
    },
    {
      "cell_type": "code",
      "source": [
        "# 3) Boolean\n",
        "print(0)\n",
        "print(1)\n",
        "print(True)\n",
        "print(False)\n",
        "\n"
      ],
      "metadata": {
        "id": "ESY_khogEuo2",
        "outputId": "000065b7-08a5-4403-c98a-484b9edd301d",
        "colab": {
          "base_uri": "https://localhost:8080/"
        }
      },
      "execution_count": null,
      "outputs": [
        {
          "output_type": "stream",
          "name": "stdout",
          "text": [
            "0\n",
            "1\n",
            "True\n",
            "False\n"
          ]
        }
      ]
    },
    {
      "cell_type": "code",
      "source": [
        "# 4) Text/Strings\n",
        "print('4')\n",
        "print(\"hello\")\n",
        "print(\"123\")"
      ],
      "metadata": {
        "id": "_JAmgCH8E0Qe",
        "outputId": "5a5fd33c-3d2b-4fff-c41b-a074f08f14ec",
        "colab": {
          "base_uri": "https://localhost:8080/"
        }
      },
      "execution_count": null,
      "outputs": [
        {
          "output_type": "stream",
          "name": "stdout",
          "text": [
            "4\n",
            "hello\n",
            "123\n"
          ]
        }
      ]
    },
    {
      "cell_type": "code",
      "source": [
        "# 5) Complex\n",
        "print(4+5j)"
      ],
      "metadata": {
        "id": "MAa_nZTME6IK",
        "outputId": "abedce6b-f171-484c-a15c-8dddc2ca9378",
        "colab": {
          "base_uri": "https://localhost:8080/"
        }
      },
      "execution_count": null,
      "outputs": [
        {
          "output_type": "stream",
          "name": "stdout",
          "text": [
            "(4+5j)\n"
          ]
        }
      ]
    },
    {
      "cell_type": "code",
      "source": [
        "# 6) List\n",
        "print([1,2,3,4,'hello',True])"
      ],
      "metadata": {
        "id": "S3E4MoRIE97R",
        "outputId": "ce1e562e-a57e-407e-f490-ba121e0f54d4",
        "colab": {
          "base_uri": "https://localhost:8080/"
        }
      },
      "execution_count": null,
      "outputs": [
        {
          "output_type": "stream",
          "name": "stdout",
          "text": [
            "[1, 2, 3, 4, 'hello', True]\n"
          ]
        }
      ]
    },
    {
      "cell_type": "code",
      "source": [
        "# 7) Tuple\n",
        "print((1,2,3,'hello',True))"
      ],
      "metadata": {
        "id": "W0b0W8hYFAYd",
        "outputId": "01a800c1-0bb5-4463-e5fc-edc92a9ce167",
        "colab": {
          "base_uri": "https://localhost:8080/"
        }
      },
      "execution_count": null,
      "outputs": [
        {
          "output_type": "stream",
          "name": "stdout",
          "text": [
            "(1, 2, 3, 'hello', True)\n"
          ]
        }
      ]
    },
    {
      "cell_type": "code",
      "source": [
        "# 8) Sets\n",
        "print({1,2,3,4})\n",
        "print({1,2,3,4,4})"
      ],
      "metadata": {
        "id": "KUJLKg1IFEeP",
        "outputId": "f83e467c-bc38-4caf-cd1a-bbb1ab148f86",
        "colab": {
          "base_uri": "https://localhost:8080/"
        }
      },
      "execution_count": null,
      "outputs": [
        {
          "output_type": "stream",
          "name": "stdout",
          "text": [
            "{1, 2, 3, 4}\n",
            "{1, 2, 3, 4}\n"
          ]
        }
      ]
    },
    {
      "cell_type": "code",
      "source": [
        "# 9) Dictionary\n",
        "print({\"name\":\"python\"})"
      ],
      "metadata": {
        "id": "AnA-TREeFHGV",
        "outputId": "716825ec-ebfc-4f6d-9653-917b43ad4f56",
        "colab": {
          "base_uri": "https://localhost:8080/"
        }
      },
      "execution_count": null,
      "outputs": [
        {
          "output_type": "stream",
          "name": "stdout",
          "text": [
            "{'name': 'python'}\n"
          ]
        }
      ]
    },
    {
      "cell_type": "code",
      "source": [
        "# How to check types?\n",
        "type(\"hello\")\n",
        "type(6)"
      ],
      "metadata": {
        "id": "3m8zOIb6FJJ_",
        "outputId": "18a6a0b2-79bb-4ff7-b8b6-e1b1f4161d7d",
        "colab": {
          "base_uri": "https://localhost:8080/"
        }
      },
      "execution_count": null,
      "outputs": [
        {
          "output_type": "execute_result",
          "data": {
            "text/plain": [
              "int"
            ]
          },
          "metadata": {},
          "execution_count": 22
        }
      ]
    },
    {
      "cell_type": "code",
      "source": [
        "print(4,5,8,True,True,{True,True})"
      ],
      "metadata": {
        "id": "sofsw9Rgj4Lk",
        "outputId": "0683498d-4672-4c6b-be2b-f171648ef565",
        "colab": {
          "base_uri": "https://localhost:8080/"
        }
      },
      "execution_count": null,
      "outputs": [
        {
          "output_type": "stream",
          "name": "stdout",
          "text": [
            "4 5 8 True True {True}\n"
          ]
        }
      ]
    },
    {
      "cell_type": "markdown",
      "source": [
        "# **VARIABLE DECLARATION IN PYTHON**\n",
        "Variables are containers for future use."
      ],
      "metadata": {
        "id": "ezCMX1A6FZmD"
      }
    },
    {
      "cell_type": "code",
      "source": [
        "# Conventional Declaration method\n",
        "int num=8"
      ],
      "metadata": {
        "id": "tHz-SMToFexi"
      },
      "execution_count": null,
      "outputs": []
    },
    {
      "cell_type": "code",
      "source": [
        "# But Python is different\n",
        "name='mohit'\n",
        "print(name)\n"
      ],
      "metadata": {
        "id": "eJmktdUOGUIG",
        "outputId": "d405b631-9309-4686-dab9-1afde27aab0c",
        "colab": {
          "base_uri": "https://localhost:8080/"
        }
      },
      "execution_count": null,
      "outputs": [
        {
          "output_type": "stream",
          "name": "stdout",
          "text": [
            "mohit\n"
          ]
        }
      ]
    },
    {
      "cell_type": "markdown",
      "source": [
        "# **Dynamic Typing**\n",
        "\n",
        "In C/C++ or Java like languages, we tell compilers the type of variables while declaration.\n",
        "E.g.:"
      ],
      "metadata": {
        "id": "ctvZnVi-GjLH"
      }
    },
    {
      "cell_type": "code",
      "source": [
        "# int a = 5\n",
        "# string name = 'Mohit'"
      ],
      "metadata": {
        "id": "pSSG5qnxHujO"
      },
      "execution_count": null,
      "outputs": []
    },
    {
      "cell_type": "markdown",
      "source": [
        "But in Python there's no need of type declaration. It auto-detects the type of variables.\n",
        "\n"
      ],
      "metadata": {
        "id": "d7Ml174IH79u"
      }
    },
    {
      "cell_type": "markdown",
      "source": [
        "# **Static Typing**\n",
        "In C/C++ or Java like languages, we define the type of variables while declaration, this is called static typing and Python does not support this."
      ],
      "metadata": {
        "id": "P87Isru9IGum"
      }
    },
    {
      "cell_type": "markdown",
      "source": [
        "# **Dynamic Binding vs Static Binding**\n",
        "Static binding refers to the execution of a program where type of object is determined at compile time i.e., when compiler executes the code it know the type of object or class to which object belongs. While in case of dynamic binding the type of object is determined at runtime.\n",
        "E.g.: "
      ],
      "metadata": {
        "id": "Ql8-8O_xJBAZ"
      }
    },
    {
      "cell_type": "code",
      "source": [
        " a = 2\n",
        " print(a)\n",
        "print(type(a))\n",
        "\n",
        "a='tannu'\n",
        "print(a)\n",
        "print(type(a))"
      ],
      "metadata": {
        "id": "aC-zGZqEJ3Tq",
        "outputId": "100bbb12-48b3-46cf-e201-7cbac7307d09",
        "colab": {
          "base_uri": "https://localhost:8080/"
        }
      },
      "execution_count": null,
      "outputs": [
        {
          "output_type": "stream",
          "name": "stdout",
          "text": [
            "2\n",
            "<class 'int'>\n",
            "tannu\n",
            "<class 'str'>\n"
          ]
        }
      ]
    },
    {
      "cell_type": "markdown",
      "source": [
        "in static binding once the variable type is declared it cannot hold any other variable type."
      ],
      "metadata": {
        "id": "nWfEqIzTKdZP"
      }
    },
    {
      "cell_type": "markdown",
      "source": [
        "# **Declaring Variables of Python in Style**\n"
      ],
      "metadata": {
        "id": "GHWEbhNoKq3r"
      }
    },
    {
      "cell_type": "code",
      "source": [
        "# 1) a = ?\n",
        "# 2) a,b,c = ?\n",
        "# 3) a = b = c = ?\n",
        "\n",
        "#a=b=c=2\n",
        "#print(a,b,c)\n",
        "a=4\n",
        "b=5\n",
        "a,b=b,a\n",
        "print(a,b)"
      ],
      "metadata": {
        "id": "6QEPXLiNKzsk",
        "outputId": "78f7fed7-be59-484c-b6a4-40cc72637e3c",
        "colab": {
          "base_uri": "https://localhost:8080/"
        }
      },
      "execution_count": null,
      "outputs": [
        {
          "output_type": "stream",
          "name": "stdout",
          "text": [
            "5 4\n"
          ]
        }
      ]
    },
    {
      "cell_type": "markdown",
      "source": [
        "# **Comments**"
      ],
      "metadata": {
        "id": "jcp7Rxl4LF1o"
      }
    },
    {
      "cell_type": "code",
      "source": [
        "#"
      ],
      "metadata": {
        "id": "z4UOM8WjVf8L"
      },
      "execution_count": null,
      "outputs": []
    }
  ],
  "metadata": {
    "colab": {
      "provenance": [],
      "include_colab_link": true
    },
    "kernelspec": {
      "display_name": "Python 3",
      "name": "python3"
    }
  },
  "nbformat": 4,
  "nbformat_minor": 0
}